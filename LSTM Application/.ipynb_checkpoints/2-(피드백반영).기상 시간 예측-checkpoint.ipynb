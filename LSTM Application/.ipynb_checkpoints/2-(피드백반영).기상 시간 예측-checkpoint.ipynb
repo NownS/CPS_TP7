{
 "cells": [
  {
   "cell_type": "markdown",
   "metadata": {},
   "source": [
    "# **2. 기상시간 예측하기** -> 피드백 반영"
   ]
  },
  {
   "cell_type": "markdown",
   "metadata": {},
   "source": [
    "**일 단위의 사용자 기상 시간 데이터를 이용하여 다음 기상 시간을 예측한다**\n",
    "\n",
    "**피드백 내용** - sigmoid 함수를 사용할 예정이므로 데이터를 (초 단위 기상시간)/(86400=하루 총 시간)으로 변환해 0~1사이의 값으로 바꾸기"
   ]
  },
  {
   "cell_type": "code",
   "execution_count": 101,
   "metadata": {},
   "outputs": [],
   "source": [
    "## 라이브러리 import\n",
    "\n",
    "import pandas as pd\n",
    "import numpy as np\n",
    "%matplotlib inline\n",
    "import matplotlib.pyplot as plt"
   ]
  },
  {
   "cell_type": "code",
   "execution_count": 102,
   "metadata": {},
   "outputs": [
    {
     "data": {
      "text/html": [
       "<div>\n",
       "<style scoped>\n",
       "    .dataframe tbody tr th:only-of-type {\n",
       "        vertical-align: middle;\n",
       "    }\n",
       "\n",
       "    .dataframe tbody tr th {\n",
       "        vertical-align: top;\n",
       "    }\n",
       "\n",
       "    .dataframe thead th {\n",
       "        text-align: right;\n",
       "    }\n",
       "</style>\n",
       "<table border=\"1\" class=\"dataframe\">\n",
       "  <thead>\n",
       "    <tr style=\"text-align: right;\">\n",
       "      <th></th>\n",
       "      <th>wake_time</th>\n",
       "      <th>sleep_second</th>\n",
       "    </tr>\n",
       "  </thead>\n",
       "  <tbody>\n",
       "    <tr>\n",
       "      <th>0</th>\n",
       "      <td>7:10</td>\n",
       "      <td>25800.0</td>\n",
       "    </tr>\n",
       "    <tr>\n",
       "      <th>1</th>\n",
       "      <td>7:00</td>\n",
       "      <td>25200.0</td>\n",
       "    </tr>\n",
       "    <tr>\n",
       "      <th>2</th>\n",
       "      <td>7:00</td>\n",
       "      <td>25200.0</td>\n",
       "    </tr>\n",
       "    <tr>\n",
       "      <th>3</th>\n",
       "      <td>5:40</td>\n",
       "      <td>20400.0</td>\n",
       "    </tr>\n",
       "    <tr>\n",
       "      <th>4</th>\n",
       "      <td>7:30</td>\n",
       "      <td>27000.0</td>\n",
       "    </tr>\n",
       "  </tbody>\n",
       "</table>\n",
       "</div>"
      ],
      "text/plain": [
       "  wake_time  sleep_second\n",
       "0      7:10       25800.0\n",
       "1      7:00       25200.0\n",
       "2      7:00       25200.0\n",
       "3      5:40       20400.0\n",
       "4      7:30       27000.0"
      ]
     },
     "execution_count": 102,
     "metadata": {},
     "output_type": "execute_result"
    }
   ],
   "source": [
    "## 데이터 불러오기\n",
    "\n",
    "df_orig = pd.read_csv('./nodate.csv', error_bad_lines=False, dtype={'sleep_second':'float'}) \n",
    "df = df_orig[['wake_time','sleep_second']]\n",
    "df.head()"
   ]
  },
  {
   "cell_type": "markdown",
   "metadata": {},
   "source": [
    "---------------\n",
    "\n",
    "## **데이터 확인 및 전처리**"
   ]
  },
  {
   "cell_type": "code",
   "execution_count": 103,
   "metadata": {},
   "outputs": [
    {
     "data": {
      "text/plain": [
       "<matplotlib.axes._subplots.AxesSubplot at 0x7fe17fca3150>"
      ]
     },
     "execution_count": 103,
     "metadata": {},
     "output_type": "execute_result"
    },
    {
     "data": {
      "image/png": "[encoded data removed]",
      "text/plain": [
       "<Figure size 432x288 with 1 Axes>"
      ]
     },
     "metadata": {
      "needs_background": "light"
     },
     "output_type": "display_data"
    }
   ],
   "source": [
    "## 시각화 -> 시계열 형태 확인\n",
    "\n",
    "df['sleep_second'].plot()"
   ]
  },
  {
   "cell_type": "code",
   "execution_count": 104,
   "metadata": {},
   "outputs": [
    {
     "data": {
      "text/plain": [
       "84"
      ]
     },
     "execution_count": 104,
     "metadata": {},
     "output_type": "execute_result"
    }
   ],
   "source": [
    "len(df['sleep_second'])"
   ]
  },
  {
   "cell_type": "code",
   "execution_count": 105,
   "metadata": {},
   "outputs": [
    {
     "name": "stderr",
     "output_type": "stream",
     "text": [
      "/Users/ojoo/opt/anaconda3/lib/python3.7/site-packages/ipykernel_launcher.py:6: SettingWithCopyWarning: \n",
      "A value is trying to be set on a copy of a slice from a DataFrame\n",
      "\n",
      "See the caveats in the documentation: https://pandas.pydata.org/pandas-docs/stable/user_guide/indexing.html#returning-a-view-versus-a-copy\n",
      "  \n"
     ]
    }
   ],
   "source": [
    "## 0~1 사이 값으로 스케일링 하기 -> sleep_second/86400(24시간)\n",
    "\n",
    "df['sleep_second_scaled'] = float(0)\n",
    "\n",
    "for i in range(len(df['sleep_second'])):\n",
    "    df['sleep_second_scaled'][i] = df['sleep_second'][i]/86400"
   ]
  },
  {
   "cell_type": "code",
   "execution_count": 106,
   "metadata": {},
   "outputs": [
    {
     "data": {
      "text/html": [
       "<div>\n",
       "<style scoped>\n",
       "    .dataframe tbody tr th:only-of-type {\n",
       "        vertical-align: middle;\n",
       "    }\n",
       "\n",
       "    .dataframe tbody tr th {\n",
       "        vertical-align: top;\n",
       "    }\n",
       "\n",
       "    .dataframe thead th {\n",
       "        text-align: right;\n",
       "    }\n",
       "</style>\n",
       "<table border=\"1\" class=\"dataframe\">\n",
       "  <thead>\n",
       "    <tr style=\"text-align: right;\">\n",
       "      <th></th>\n",
       "      <th>wake_time</th>\n",
       "      <th>sleep_second</th>\n",
       "      <th>sleep_second_scaled</th>\n",
       "    </tr>\n",
       "  </thead>\n",
       "  <tbody>\n",
       "    <tr>\n",
       "      <th>0</th>\n",
       "      <td>7:10</td>\n",
       "      <td>25800.0</td>\n",
       "      <td>0.298611</td>\n",
       "    </tr>\n",
       "    <tr>\n",
       "      <th>1</th>\n",
       "      <td>7:00</td>\n",
       "      <td>25200.0</td>\n",
       "      <td>0.291667</td>\n",
       "    </tr>\n",
       "    <tr>\n",
       "      <th>2</th>\n",
       "      <td>7:00</td>\n",
       "      <td>25200.0</td>\n",
       "      <td>0.291667</td>\n",
       "    </tr>\n",
       "    <tr>\n",
       "      <th>3</th>\n",
       "      <td>5:40</td>\n",
       "      <td>20400.0</td>\n",
       "      <td>0.236111</td>\n",
       "    </tr>\n",
       "    <tr>\n",
       "      <th>4</th>\n",
       "      <td>7:30</td>\n",
       "      <td>27000.0</td>\n",
       "      <td>0.312500</td>\n",
       "    </tr>\n",
       "  </tbody>\n",
       "</table>\n",
       "</div>"
      ],
      "text/plain": [
       "  wake_time  sleep_second  sleep_second_scaled\n",
       "0      7:10       25800.0             0.298611\n",
       "1      7:00       25200.0             0.291667\n",
       "2      7:00       25200.0             0.291667\n",
       "3      5:40       20400.0             0.236111\n",
       "4      7:30       27000.0             0.312500"
      ]
     },
     "execution_count": 106,
     "metadata": {},
     "output_type": "execute_result"
    }
   ],
   "source": [
    "df.head()"
   ]
  },
  {
   "cell_type": "code",
   "execution_count": 107,
   "metadata": {},
   "outputs": [],
   "source": [
    "# 0~55(56일): 학습, 56~69(14일): 검증, 70~83(14일): 테스트\n",
    "\n",
    "train = df.loc[:56, ['sleep_second_scaled']]\n",
    "val = df.loc[56:70, ['sleep_second_scaled']]\n",
    "test = df.loc[70:, ['sleep_second_scaled']]"
   ]
  },
  {
   "cell_type": "code",
   "execution_count": 108,
   "metadata": {},
   "outputs": [
    {
     "data": {
      "text/plain": [
       "<matplotlib.legend.Legend at 0x7fe181a51050>"
      ]
     },
     "execution_count": 108,
     "metadata": {},
     "output_type": "execute_result"
    },
    {
     "data": {
      "image/png": "[encoded data removed]",
      "text/plain": [
       "<Figure size 432x288 with 1 Axes>"
      ]
     },
     "metadata": {
      "needs_background": "light"
     },
     "output_type": "display_data"
    }
   ],
   "source": [
    "## 다시 시각화\n",
    "\n",
    "ax = train.plot()\n",
    "val.plot(ax=ax)\n",
    "test.plot(ax=ax)\n",
    "plt.legend(['train','val', 'test'])"
   ]
  },
  {
   "cell_type": "code",
   "execution_count": 109,
   "metadata": {},
   "outputs": [
    {
     "data": {
      "text/html": [
       "<div>\n",
       "<style scoped>\n",
       "    .dataframe tbody tr th:only-of-type {\n",
       "        vertical-align: middle;\n",
       "    }\n",
       "\n",
       "    .dataframe tbody tr th {\n",
       "        vertical-align: top;\n",
       "    }\n",
       "\n",
       "    .dataframe thead th {\n",
       "        text-align: right;\n",
       "    }\n",
       "</style>\n",
       "<table border=\"1\" class=\"dataframe\">\n",
       "  <thead>\n",
       "    <tr style=\"text-align: right;\">\n",
       "      <th></th>\n",
       "      <th>sleep_second_scaled</th>\n",
       "      <th>shift_1</th>\n",
       "      <th>shift_2</th>\n",
       "      <th>shift_3</th>\n",
       "      <th>shift_4</th>\n",
       "      <th>shift_5</th>\n",
       "      <th>shift_6</th>\n",
       "      <th>shift_7</th>\n",
       "    </tr>\n",
       "  </thead>\n",
       "  <tbody>\n",
       "    <tr>\n",
       "      <th>70</th>\n",
       "      <td>0.284722</td>\n",
       "      <td>NaN</td>\n",
       "      <td>NaN</td>\n",
       "      <td>NaN</td>\n",
       "      <td>NaN</td>\n",
       "      <td>NaN</td>\n",
       "      <td>NaN</td>\n",
       "      <td>NaN</td>\n",
       "    </tr>\n",
       "    <tr>\n",
       "      <th>71</th>\n",
       "      <td>0.305556</td>\n",
       "      <td>0.284722</td>\n",
       "      <td>NaN</td>\n",
       "      <td>NaN</td>\n",
       "      <td>NaN</td>\n",
       "      <td>NaN</td>\n",
       "      <td>NaN</td>\n",
       "      <td>NaN</td>\n",
       "    </tr>\n",
       "    <tr>\n",
       "      <th>72</th>\n",
       "      <td>0.291667</td>\n",
       "      <td>0.305556</td>\n",
       "      <td>0.284722</td>\n",
       "      <td>NaN</td>\n",
       "      <td>NaN</td>\n",
       "      <td>NaN</td>\n",
       "      <td>NaN</td>\n",
       "      <td>NaN</td>\n",
       "    </tr>\n",
       "    <tr>\n",
       "      <th>73</th>\n",
       "      <td>0.243056</td>\n",
       "      <td>0.291667</td>\n",
       "      <td>0.305556</td>\n",
       "      <td>0.284722</td>\n",
       "      <td>NaN</td>\n",
       "      <td>NaN</td>\n",
       "      <td>NaN</td>\n",
       "      <td>NaN</td>\n",
       "    </tr>\n",
       "    <tr>\n",
       "      <th>74</th>\n",
       "      <td>0.291667</td>\n",
       "      <td>0.243056</td>\n",
       "      <td>0.291667</td>\n",
       "      <td>0.305556</td>\n",
       "      <td>0.284722</td>\n",
       "      <td>NaN</td>\n",
       "      <td>NaN</td>\n",
       "      <td>NaN</td>\n",
       "    </tr>\n",
       "    <tr>\n",
       "      <th>75</th>\n",
       "      <td>0.375000</td>\n",
       "      <td>0.291667</td>\n",
       "      <td>0.243056</td>\n",
       "      <td>0.291667</td>\n",
       "      <td>0.305556</td>\n",
       "      <td>0.284722</td>\n",
       "      <td>NaN</td>\n",
       "      <td>NaN</td>\n",
       "    </tr>\n",
       "    <tr>\n",
       "      <th>76</th>\n",
       "      <td>0.500000</td>\n",
       "      <td>0.375000</td>\n",
       "      <td>0.291667</td>\n",
       "      <td>0.243056</td>\n",
       "      <td>0.291667</td>\n",
       "      <td>0.305556</td>\n",
       "      <td>0.284722</td>\n",
       "      <td>NaN</td>\n",
       "    </tr>\n",
       "    <tr>\n",
       "      <th>77</th>\n",
       "      <td>0.270833</td>\n",
       "      <td>0.500000</td>\n",
       "      <td>0.375000</td>\n",
       "      <td>0.291667</td>\n",
       "      <td>0.243056</td>\n",
       "      <td>0.291667</td>\n",
       "      <td>0.305556</td>\n",
       "      <td>0.284722</td>\n",
       "    </tr>\n",
       "  </tbody>\n",
       "</table>\n",
       "</div>"
      ],
      "text/plain": [
       "    sleep_second_scaled   shift_1   shift_2   shift_3   shift_4   shift_5  \\\n",
       "70             0.284722       NaN       NaN       NaN       NaN       NaN   \n",
       "71             0.305556  0.284722       NaN       NaN       NaN       NaN   \n",
       "72             0.291667  0.305556  0.284722       NaN       NaN       NaN   \n",
       "73             0.243056  0.291667  0.305556  0.284722       NaN       NaN   \n",
       "74             0.291667  0.243056  0.291667  0.305556  0.284722       NaN   \n",
       "75             0.375000  0.291667  0.243056  0.291667  0.305556  0.284722   \n",
       "76             0.500000  0.375000  0.291667  0.243056  0.291667  0.305556   \n",
       "77             0.270833  0.500000  0.375000  0.291667  0.243056  0.291667   \n",
       "\n",
       "     shift_6   shift_7  \n",
       "70       NaN       NaN  \n",
       "71       NaN       NaN  \n",
       "72       NaN       NaN  \n",
       "73       NaN       NaN  \n",
       "74       NaN       NaN  \n",
       "75       NaN       NaN  \n",
       "76  0.284722       NaN  \n",
       "77  0.305556  0.284722  "
      ]
     },
     "execution_count": 109,
     "metadata": {},
     "output_type": "execute_result"
    }
   ],
   "source": [
    "## window(LSTM 훈련 단위)를 7(일주일)로 설정하고 shift()로 window 크기만큼 데이터만 이동 시키기\n",
    "\n",
    "for s in range(1, 8):\n",
    "    train['shift_{}'.format(s)] = train['sleep_second_scaled'].shift(s)\n",
    "    val['shift_{}'.format(s)] = val['sleep_second_scaled'].shift(s)\n",
    "    test['shift_{}'.format(s)] = test['sleep_second_scaled'].shift(s)\n",
    "\n",
    "test.head(8)"
   ]
  },
  {
   "cell_type": "code",
   "execution_count": 110,
   "metadata": {},
   "outputs": [],
   "source": [
    "## null값 제거 + X/y 나누기\n",
    "\n",
    "X_train = train.dropna().drop('sleep_second_scaled', axis=1)\n",
    "y_train = train.dropna()[['sleep_second_scaled']]\n",
    "X_val = val.dropna().drop('sleep_second_scaled', axis=1)\n",
    "y_val = val.dropna()[['sleep_second_scaled']]\n",
    "X_test = test.dropna().drop('sleep_second_scaled', axis=1)\n",
    "y_test = test.dropna()[['sleep_second_scaled']]"
   ]
  },
  {
   "cell_type": "code",
   "execution_count": 111,
   "metadata": {},
   "outputs": [
    {
     "data": {
      "text/html": [
       "<div>\n",
       "<style scoped>\n",
       "    .dataframe tbody tr th:only-of-type {\n",
       "        vertical-align: middle;\n",
       "    }\n",
       "\n",
       "    .dataframe tbody tr th {\n",
       "        vertical-align: top;\n",
       "    }\n",
       "\n",
       "    .dataframe thead th {\n",
       "        text-align: right;\n",
       "    }\n",
       "</style>\n",
       "<table border=\"1\" class=\"dataframe\">\n",
       "  <thead>\n",
       "    <tr style=\"text-align: right;\">\n",
       "      <th></th>\n",
       "      <th>shift_1</th>\n",
       "      <th>shift_2</th>\n",
       "      <th>shift_3</th>\n",
       "      <th>shift_4</th>\n",
       "      <th>shift_5</th>\n",
       "      <th>shift_6</th>\n",
       "      <th>shift_7</th>\n",
       "    </tr>\n",
       "  </thead>\n",
       "  <tbody>\n",
       "    <tr>\n",
       "      <th>63</th>\n",
       "      <td>0.437500</td>\n",
       "      <td>0.500000</td>\n",
       "      <td>0.312500</td>\n",
       "      <td>0.243056</td>\n",
       "      <td>0.298611</td>\n",
       "      <td>0.298611</td>\n",
       "      <td>0.291667</td>\n",
       "    </tr>\n",
       "    <tr>\n",
       "      <th>64</th>\n",
       "      <td>0.291667</td>\n",
       "      <td>0.437500</td>\n",
       "      <td>0.500000</td>\n",
       "      <td>0.312500</td>\n",
       "      <td>0.243056</td>\n",
       "      <td>0.298611</td>\n",
       "      <td>0.298611</td>\n",
       "    </tr>\n",
       "    <tr>\n",
       "      <th>65</th>\n",
       "      <td>0.298611</td>\n",
       "      <td>0.291667</td>\n",
       "      <td>0.437500</td>\n",
       "      <td>0.500000</td>\n",
       "      <td>0.312500</td>\n",
       "      <td>0.243056</td>\n",
       "      <td>0.298611</td>\n",
       "    </tr>\n",
       "    <tr>\n",
       "      <th>66</th>\n",
       "      <td>0.284722</td>\n",
       "      <td>0.298611</td>\n",
       "      <td>0.291667</td>\n",
       "      <td>0.437500</td>\n",
       "      <td>0.500000</td>\n",
       "      <td>0.312500</td>\n",
       "      <td>0.243056</td>\n",
       "    </tr>\n",
       "    <tr>\n",
       "      <th>67</th>\n",
       "      <td>0.250000</td>\n",
       "      <td>0.284722</td>\n",
       "      <td>0.298611</td>\n",
       "      <td>0.291667</td>\n",
       "      <td>0.437500</td>\n",
       "      <td>0.500000</td>\n",
       "      <td>0.312500</td>\n",
       "    </tr>\n",
       "  </tbody>\n",
       "</table>\n",
       "</div>"
      ],
      "text/plain": [
       "     shift_1   shift_2   shift_3   shift_4   shift_5   shift_6   shift_7\n",
       "63  0.437500  0.500000  0.312500  0.243056  0.298611  0.298611  0.291667\n",
       "64  0.291667  0.437500  0.500000  0.312500  0.243056  0.298611  0.298611\n",
       "65  0.298611  0.291667  0.437500  0.500000  0.312500  0.243056  0.298611\n",
       "66  0.284722  0.298611  0.291667  0.437500  0.500000  0.312500  0.243056\n",
       "67  0.250000  0.284722  0.298611  0.291667  0.437500  0.500000  0.312500"
      ]
     },
     "execution_count": 111,
     "metadata": {},
     "output_type": "execute_result"
    }
   ],
   "source": [
    "X_val.head()"
   ]
  },
  {
   "cell_type": "code",
   "execution_count": 112,
   "metadata": {},
   "outputs": [],
   "source": [
    "## 분석할 때 numpy ndarray 써야되니까 values로 바꾸기\n",
    "\n",
    "X_train = X_train.values\n",
    "X_val = X_val.values\n",
    "X_test = X_test.values\n",
    "\n",
    "y_train = y_train.values\n",
    "y_val = y_val.values\n",
    "y_test = y_test.values\n"
   ]
  },
  {
   "cell_type": "code",
   "execution_count": 113,
   "metadata": {},
   "outputs": [
    {
     "name": "stdout",
     "output_type": "stream",
     "text": [
      "(50, 7)\n",
      "(50, 1)\n",
      "(8, 7)\n",
      "(8, 1)\n"
     ]
    }
   ],
   "source": [
    "## Keras LSTM 이용하려면 3차원 변환 필요 -> (데이터 수, slot 수, feature 수)\n",
    "\n",
    "## (데이터 수, slot 수) 확인 먼저 해보기\n",
    "print(X_train.shape)\n",
    "print(y_train.shape)\n",
    "print(X_val.shape)\n",
    "print(y_val.shape)"
   ]
  },
  {
   "cell_type": "code",
   "execution_count": 114,
   "metadata": {},
   "outputs": [
    {
     "name": "stdout",
     "output_type": "stream",
     "text": [
      "(50, 7, 1)\n",
      "(7, 7, 1)\n"
     ]
    }
   ],
   "source": [
    "## reshape 하기 \n",
    "X_train_t = X_train.reshape(X_train.shape[0], 7, 1)\n",
    "X_val_t = X_val.reshape(X_val.shape[0], 7, 1)\n",
    "X_test_t = X_test.reshape(X_test.shape[0], 7, 1)\n",
    "\n",
    "\n",
    "\n",
    "print(X_train_t.shape)\n",
    "print(X_test_t.shape)"
   ]
  },
  {
   "cell_type": "markdown",
   "metadata": {},
   "source": [
    "--------------\n",
    "\n",
    "## **학습 수행**"
   ]
  },
  {
   "cell_type": "code",
   "execution_count": 115,
   "metadata": {},
   "outputs": [
    {
     "name": "stdout",
     "output_type": "stream",
     "text": [
      "Model: \"sequential_1\"\n",
      "_________________________________________________________________\n",
      "Layer (type)                 Output Shape              Param #   \n",
      "=================================================================\n",
      "lstm_1 (LSTM)                (None, 40)                6720      \n",
      "_________________________________________________________________\n",
      "dense_1 (Dense)              (None, 1)                 41        \n",
      "=================================================================\n",
      "Total params: 6,761\n",
      "Trainable params: 6,761\n",
      "Non-trainable params: 0\n",
      "_________________________________________________________________\n"
     ]
    }
   ],
   "source": [
    "## LSTM 모델 만들기 -> Keras 사용\n",
    "\n",
    "import keras\n",
    "from keras.layers import LSTM \n",
    "from keras.models import Sequential # 레이어를 선형으로 쌓는 모델\n",
    "from keras.layers import Dense # 완전 연결 레이어\n",
    "import keras.backend as K \n",
    "from keras.callbacks import EarlyStopping\n",
    "\n",
    "K.clear_session()\n",
    "    \n",
    "model = Sequential() # Sequeatial Model 객체 \n",
    "model.add(LSTM(40, input_shape=(7, 1)))# (slot 수, feature 수) \n",
    "model.add(Dense(1, activation='sigmoid'))\n",
    "model.compile(loss='mean_squared_error', optimizer='adam', metrics=['accuracy']) \n",
    "model.summary() # 모델 내용 확인\n",
    "\n",
    "\n",
    "#optimizer: adam, sgd, RMSprop, Adagrad\n",
    "#activation: sigmoid, relu , softmax"
   ]
  },
  {
   "cell_type": "code",
   "execution_count": 116,
   "metadata": {},
   "outputs": [
    {
     "name": "stdout",
     "output_type": "stream",
     "text": [
      "Train on 50 samples, validate on 8 samples\n",
      "Epoch 1/100\n",
      "50/50 [==============================] - 0s 8ms/step - loss: 0.0303 - accuracy: 0.0000e+00 - val_loss: 0.0286 - val_accuracy: 0.0000e+00\n",
      "Epoch 2/100\n",
      "50/50 [==============================] - 0s 300us/step - loss: 0.0278 - accuracy: 0.0000e+00 - val_loss: 0.0257 - val_accuracy: 0.0000e+00\n",
      "Epoch 3/100\n",
      "50/50 [==============================] - 0s 241us/step - loss: 0.0250 - accuracy: 0.0000e+00 - val_loss: 0.0229 - val_accuracy: 0.0000e+00\n",
      "Epoch 4/100\n",
      "50/50 [==============================] - 0s 268us/step - loss: 0.0222 - accuracy: 0.0000e+00 - val_loss: 0.0201 - val_accuracy: 0.0000e+00\n",
      "Epoch 5/100\n",
      "50/50 [==============================] - 0s 237us/step - loss: 0.0196 - accuracy: 0.0000e+00 - val_loss: 0.0175 - val_accuracy: 0.0000e+00\n",
      "Epoch 6/100\n",
      "50/50 [==============================] - 0s 251us/step - loss: 0.0172 - accuracy: 0.0000e+00 - val_loss: 0.0150 - val_accuracy: 0.0000e+00\n",
      "Epoch 7/100\n",
      "50/50 [==============================] - 0s 248us/step - loss: 0.0148 - accuracy: 0.0000e+00 - val_loss: 0.0127 - val_accuracy: 0.0000e+00\n",
      "Epoch 8/100\n",
      "50/50 [==============================] - 0s 227us/step - loss: 0.0126 - accuracy: 0.0000e+00 - val_loss: 0.0106 - val_accuracy: 0.0000e+00\n",
      "Epoch 9/100\n",
      "50/50 [==============================] - 0s 217us/step - loss: 0.0107 - accuracy: 0.0000e+00 - val_loss: 0.0087 - val_accuracy: 0.0000e+00\n",
      "Epoch 10/100\n",
      "50/50 [==============================] - 0s 204us/step - loss: 0.0091 - accuracy: 0.0000e+00 - val_loss: 0.0071 - val_accuracy: 0.0000e+00\n",
      "Epoch 11/100\n",
      "50/50 [==============================] - 0s 205us/step - loss: 0.0078 - accuracy: 0.0000e+00 - val_loss: 0.0060 - val_accuracy: 0.0000e+00\n",
      "Epoch 12/100\n",
      "50/50 [==============================] - 0s 212us/step - loss: 0.0068 - accuracy: 0.0000e+00 - val_loss: 0.0052 - val_accuracy: 0.0000e+00\n",
      "Epoch 13/100\n",
      "50/50 [==============================] - 0s 208us/step - loss: 0.0061 - accuracy: 0.0000e+00 - val_loss: 0.0049 - val_accuracy: 0.0000e+00\n",
      "Epoch 14/100\n",
      "50/50 [==============================] - 0s 198us/step - loss: 0.0061 - accuracy: 0.0000e+00 - val_loss: 0.0050 - val_accuracy: 0.0000e+00\n",
      "Epoch 15/100\n",
      "50/50 [==============================] - 0s 200us/step - loss: 0.0061 - accuracy: 0.0000e+00 - val_loss: 0.0052 - val_accuracy: 0.0000e+00\n",
      "Epoch 00015: early stopping\n"
     ]
    },
    {
     "data": {
      "text/plain": [
       "<keras.callbacks.callbacks.History at 0x7fe1826ddd10>"
      ]
     },
     "execution_count": 116,
     "metadata": {},
     "output_type": "execute_result"
    }
   ],
   "source": [
    "## fit\n",
    "\n",
    "early_stop = EarlyStopping(monitor='loss', patience=1, verbose=1) \n",
    "\n",
    "model.fit(X_train_t, y_train, epochs=100,\n",
    "          batch_size=30, verbose=1, callbacks=[early_stop], validation_data=(X_val_t, y_val))"
   ]
  },
  {
   "cell_type": "markdown",
   "metadata": {},
   "source": [
    "----------------\n",
    "\n",
    "## **예측 수행 및 평가**"
   ]
  },
  {
   "cell_type": "code",
   "execution_count": 99,
   "metadata": {},
   "outputs": [
    {
     "data": {
      "text/plain": [
       "array([[0.],\n",
       "       [0.],\n",
       "       [0.],\n",
       "       [0.],\n",
       "       [0.],\n",
       "       [0.],\n",
       "       [0.]], dtype=float32)"
      ]
     },
     "execution_count": 99,
     "metadata": {},
     "output_type": "execute_result"
    }
   ],
   "source": [
    "## 테스트 데이터로 예측\n",
    "\n",
    "y_pred = model.predict(X_test_t, batch_size=30)\n",
    "\n",
    "y_pred"
   ]
  },
  {
   "cell_type": "code",
   "execution_count": 100,
   "metadata": {},
   "outputs": [
    {
     "data": {
      "text/plain": [
       "[<matplotlib.lines.Line2D at 0x7fe17acbde10>]"
      ]
     },
     "execution_count": 100,
     "metadata": {},
     "output_type": "execute_result"
    },
    {
     "data": {
      "image/png": "[encoded data removed]",
      "text/plain": [
       "<Figure size 1080x360 with 1 Axes>"
      ]
     },
     "metadata": {
      "needs_background": "light"
     },
     "output_type": "display_data"
    }
   ],
   "source": [
    "plt.figure(figsize=(15,5))\n",
    "\n",
    "plt.plot(y_test, color='red', label='true')\n",
    "plt.plot(y_pred, color='blue', label='pred')"
   ]
  },
  {
   "cell_type": "code",
   "execution_count": 82,
   "metadata": {},
   "outputs": [
    {
     "name": "stdout",
     "output_type": "stream",
     "text": [
      "7/7 [==============================] - 0s 188us/step\n"
     ]
    },
    {
     "data": {
      "text/plain": [
       "[0.006044385489076376, 0.0]"
      ]
     },
     "execution_count": 82,
     "metadata": {},
     "output_type": "execute_result"
    }
   ],
   "source": [
    "eval_ = model.evaluate(X_test_t, y_test, batch_size=30)\n",
    "eval_"
   ]
  },
  {
   "cell_type": "code",
   "execution_count": null,
   "metadata": {},
   "outputs": [],
   "source": []
  }
 ],
 "metadata": {
  "kernelspec": {
   "display_name": "Python 3",
   "language": "python",
   "name": "python3"
  },
  "language_info": {
   "codemirror_mode": {
    "name": "ipython",
    "version": 3
   },
   "file_extension": ".py",
   "mimetype": "text/x-python",
   "name": "python",
   "nbconvert_exporter": "python",
   "pygments_lexer": "ipython3",
   "version": "3.7.6"
  }
 },
 "nbformat": 4,
 "nbformat_minor": 4
}
